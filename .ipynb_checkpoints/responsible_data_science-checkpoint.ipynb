{
 "cells": [
  {
   "cell_type": "markdown",
   "metadata": {},
   "source": [
    "# Importations"
   ]
  },
  {
   "cell_type": "code",
   "execution_count": 1,
   "metadata": {},
   "outputs": [
    {
     "name": "stderr",
     "output_type": "stream",
     "text": [
      "WARNING:root:No module named 'inFairness': SenSeI and SenSR will be unavailable. To install, run:\n",
      "pip install 'aif360[inFairness]'\n"
     ]
    }
   ],
   "source": [
    "from datetime import datetime, timedelta\n",
    "\n",
    "import pandas as pd\n",
    "import numpy as np\n",
    "from sklearn.model_selection import train_test_split # type: ignore\n",
    "from sklearn.preprocessing import Binarizer, StandardScaler\n",
    "from sklearn.linear_model import LogisticRegression\n",
    "from sklearn.metrics import accuracy_score, precision_score, recall_score, f1_score\n",
    "from aif360.datasets import BinaryLabelDataset\n",
    "from aif360.metrics import BinaryLabelDatasetMetric, ClassificationMetric\n",
    "from aif360.algorithms.preprocessing import Reweighing\n",
    "#from aif360.algorithms.inprocessing import AdversarialDebiasing\n",
    "import tensorflow as tf"
   ]
  },
  {
   "cell_type": "markdown",
   "metadata": {},
   "source": [
    "# 1 - Classification\n",
    "\n",
    "### 1.1 Load and Preprocess Data"
   ]
  },
  {
   "cell_type": "code",
   "execution_count": 2,
   "metadata": {
    "colab": {
     "base_uri": "https://localhost:8080/",
     "height": 478
    },
    "id": "lAQ0YA7Q2hvc",
    "outputId": "508e7ec1-a327-4d11-c59a-a65d07d23d7e"
   },
   "outputs": [
    {
     "data": {
      "text/html": [
       "<div>\n",
       "<style scoped>\n",
       "    .dataframe tbody tr th:only-of-type {\n",
       "        vertical-align: middle;\n",
       "    }\n",
       "\n",
       "    .dataframe tbody tr th {\n",
       "        vertical-align: top;\n",
       "    }\n",
       "\n",
       "    .dataframe thead th {\n",
       "        text-align: right;\n",
       "    }\n",
       "</style>\n",
       "<table border=\"1\" class=\"dataframe\">\n",
       "  <thead>\n",
       "    <tr style=\"text-align: right;\">\n",
       "      <th></th>\n",
       "      <th>age</th>\n",
       "      <th>fnlwgt</th>\n",
       "      <th>education-num</th>\n",
       "      <th>capital-gain</th>\n",
       "      <th>capital-loss</th>\n",
       "      <th>hours-per-week</th>\n",
       "      <th>workclass_Federal-gov</th>\n",
       "      <th>workclass_Local-gov</th>\n",
       "      <th>workclass_Never-worked</th>\n",
       "      <th>workclass_Private</th>\n",
       "      <th>...</th>\n",
       "      <th>native-country_Puerto-Rico</th>\n",
       "      <th>native-country_Scotland</th>\n",
       "      <th>native-country_South</th>\n",
       "      <th>native-country_Taiwan</th>\n",
       "      <th>native-country_Thailand</th>\n",
       "      <th>native-country_Trinadad&amp;Tobago</th>\n",
       "      <th>native-country_United-States</th>\n",
       "      <th>native-country_Vietnam</th>\n",
       "      <th>native-country_Yugoslavia</th>\n",
       "      <th>income_&gt;50K</th>\n",
       "    </tr>\n",
       "  </thead>\n",
       "  <tbody>\n",
       "    <tr>\n",
       "      <th>0</th>\n",
       "      <td>1</td>\n",
       "      <td>77516</td>\n",
       "      <td>13</td>\n",
       "      <td>2174</td>\n",
       "      <td>0</td>\n",
       "      <td>40</td>\n",
       "      <td>False</td>\n",
       "      <td>False</td>\n",
       "      <td>False</td>\n",
       "      <td>False</td>\n",
       "      <td>...</td>\n",
       "      <td>False</td>\n",
       "      <td>False</td>\n",
       "      <td>False</td>\n",
       "      <td>False</td>\n",
       "      <td>False</td>\n",
       "      <td>False</td>\n",
       "      <td>True</td>\n",
       "      <td>False</td>\n",
       "      <td>False</td>\n",
       "      <td>False</td>\n",
       "    </tr>\n",
       "    <tr>\n",
       "      <th>1</th>\n",
       "      <td>1</td>\n",
       "      <td>83311</td>\n",
       "      <td>13</td>\n",
       "      <td>0</td>\n",
       "      <td>0</td>\n",
       "      <td>13</td>\n",
       "      <td>False</td>\n",
       "      <td>False</td>\n",
       "      <td>False</td>\n",
       "      <td>False</td>\n",
       "      <td>...</td>\n",
       "      <td>False</td>\n",
       "      <td>False</td>\n",
       "      <td>False</td>\n",
       "      <td>False</td>\n",
       "      <td>False</td>\n",
       "      <td>False</td>\n",
       "      <td>True</td>\n",
       "      <td>False</td>\n",
       "      <td>False</td>\n",
       "      <td>False</td>\n",
       "    </tr>\n",
       "    <tr>\n",
       "      <th>2</th>\n",
       "      <td>1</td>\n",
       "      <td>215646</td>\n",
       "      <td>9</td>\n",
       "      <td>0</td>\n",
       "      <td>0</td>\n",
       "      <td>40</td>\n",
       "      <td>False</td>\n",
       "      <td>False</td>\n",
       "      <td>False</td>\n",
       "      <td>True</td>\n",
       "      <td>...</td>\n",
       "      <td>False</td>\n",
       "      <td>False</td>\n",
       "      <td>False</td>\n",
       "      <td>False</td>\n",
       "      <td>False</td>\n",
       "      <td>False</td>\n",
       "      <td>True</td>\n",
       "      <td>False</td>\n",
       "      <td>False</td>\n",
       "      <td>False</td>\n",
       "    </tr>\n",
       "    <tr>\n",
       "      <th>3</th>\n",
       "      <td>1</td>\n",
       "      <td>234721</td>\n",
       "      <td>7</td>\n",
       "      <td>0</td>\n",
       "      <td>0</td>\n",
       "      <td>40</td>\n",
       "      <td>False</td>\n",
       "      <td>False</td>\n",
       "      <td>False</td>\n",
       "      <td>True</td>\n",
       "      <td>...</td>\n",
       "      <td>False</td>\n",
       "      <td>False</td>\n",
       "      <td>False</td>\n",
       "      <td>False</td>\n",
       "      <td>False</td>\n",
       "      <td>False</td>\n",
       "      <td>True</td>\n",
       "      <td>False</td>\n",
       "      <td>False</td>\n",
       "      <td>False</td>\n",
       "    </tr>\n",
       "    <tr>\n",
       "      <th>4</th>\n",
       "      <td>0</td>\n",
       "      <td>338409</td>\n",
       "      <td>13</td>\n",
       "      <td>0</td>\n",
       "      <td>0</td>\n",
       "      <td>40</td>\n",
       "      <td>False</td>\n",
       "      <td>False</td>\n",
       "      <td>False</td>\n",
       "      <td>True</td>\n",
       "      <td>...</td>\n",
       "      <td>False</td>\n",
       "      <td>False</td>\n",
       "      <td>False</td>\n",
       "      <td>False</td>\n",
       "      <td>False</td>\n",
       "      <td>False</td>\n",
       "      <td>False</td>\n",
       "      <td>False</td>\n",
       "      <td>False</td>\n",
       "      <td>False</td>\n",
       "    </tr>\n",
       "    <tr>\n",
       "      <th>...</th>\n",
       "      <td>...</td>\n",
       "      <td>...</td>\n",
       "      <td>...</td>\n",
       "      <td>...</td>\n",
       "      <td>...</td>\n",
       "      <td>...</td>\n",
       "      <td>...</td>\n",
       "      <td>...</td>\n",
       "      <td>...</td>\n",
       "      <td>...</td>\n",
       "      <td>...</td>\n",
       "      <td>...</td>\n",
       "      <td>...</td>\n",
       "      <td>...</td>\n",
       "      <td>...</td>\n",
       "      <td>...</td>\n",
       "      <td>...</td>\n",
       "      <td>...</td>\n",
       "      <td>...</td>\n",
       "      <td>...</td>\n",
       "      <td>...</td>\n",
       "    </tr>\n",
       "    <tr>\n",
       "      <th>32556</th>\n",
       "      <td>0</td>\n",
       "      <td>257302</td>\n",
       "      <td>12</td>\n",
       "      <td>0</td>\n",
       "      <td>0</td>\n",
       "      <td>38</td>\n",
       "      <td>False</td>\n",
       "      <td>False</td>\n",
       "      <td>False</td>\n",
       "      <td>True</td>\n",
       "      <td>...</td>\n",
       "      <td>False</td>\n",
       "      <td>False</td>\n",
       "      <td>False</td>\n",
       "      <td>False</td>\n",
       "      <td>False</td>\n",
       "      <td>False</td>\n",
       "      <td>True</td>\n",
       "      <td>False</td>\n",
       "      <td>False</td>\n",
       "      <td>False</td>\n",
       "    </tr>\n",
       "    <tr>\n",
       "      <th>32557</th>\n",
       "      <td>1</td>\n",
       "      <td>154374</td>\n",
       "      <td>9</td>\n",
       "      <td>0</td>\n",
       "      <td>0</td>\n",
       "      <td>40</td>\n",
       "      <td>False</td>\n",
       "      <td>False</td>\n",
       "      <td>False</td>\n",
       "      <td>True</td>\n",
       "      <td>...</td>\n",
       "      <td>False</td>\n",
       "      <td>False</td>\n",
       "      <td>False</td>\n",
       "      <td>False</td>\n",
       "      <td>False</td>\n",
       "      <td>False</td>\n",
       "      <td>True</td>\n",
       "      <td>False</td>\n",
       "      <td>False</td>\n",
       "      <td>True</td>\n",
       "    </tr>\n",
       "    <tr>\n",
       "      <th>32558</th>\n",
       "      <td>1</td>\n",
       "      <td>151910</td>\n",
       "      <td>9</td>\n",
       "      <td>0</td>\n",
       "      <td>0</td>\n",
       "      <td>40</td>\n",
       "      <td>False</td>\n",
       "      <td>False</td>\n",
       "      <td>False</td>\n",
       "      <td>True</td>\n",
       "      <td>...</td>\n",
       "      <td>False</td>\n",
       "      <td>False</td>\n",
       "      <td>False</td>\n",
       "      <td>False</td>\n",
       "      <td>False</td>\n",
       "      <td>False</td>\n",
       "      <td>True</td>\n",
       "      <td>False</td>\n",
       "      <td>False</td>\n",
       "      <td>False</td>\n",
       "    </tr>\n",
       "    <tr>\n",
       "      <th>32559</th>\n",
       "      <td>0</td>\n",
       "      <td>201490</td>\n",
       "      <td>9</td>\n",
       "      <td>0</td>\n",
       "      <td>0</td>\n",
       "      <td>20</td>\n",
       "      <td>False</td>\n",
       "      <td>False</td>\n",
       "      <td>False</td>\n",
       "      <td>True</td>\n",
       "      <td>...</td>\n",
       "      <td>False</td>\n",
       "      <td>False</td>\n",
       "      <td>False</td>\n",
       "      <td>False</td>\n",
       "      <td>False</td>\n",
       "      <td>False</td>\n",
       "      <td>True</td>\n",
       "      <td>False</td>\n",
       "      <td>False</td>\n",
       "      <td>False</td>\n",
       "    </tr>\n",
       "    <tr>\n",
       "      <th>32560</th>\n",
       "      <td>1</td>\n",
       "      <td>287927</td>\n",
       "      <td>9</td>\n",
       "      <td>15024</td>\n",
       "      <td>0</td>\n",
       "      <td>40</td>\n",
       "      <td>False</td>\n",
       "      <td>False</td>\n",
       "      <td>False</td>\n",
       "      <td>False</td>\n",
       "      <td>...</td>\n",
       "      <td>False</td>\n",
       "      <td>False</td>\n",
       "      <td>False</td>\n",
       "      <td>False</td>\n",
       "      <td>False</td>\n",
       "      <td>False</td>\n",
       "      <td>True</td>\n",
       "      <td>False</td>\n",
       "      <td>False</td>\n",
       "      <td>True</td>\n",
       "    </tr>\n",
       "  </tbody>\n",
       "</table>\n",
       "<p>32561 rows × 101 columns</p>\n",
       "</div>"
      ],
      "text/plain": [
       "       age  fnlwgt  education-num  capital-gain  capital-loss  hours-per-week  \\\n",
       "0        1   77516             13          2174             0              40   \n",
       "1        1   83311             13             0             0              13   \n",
       "2        1  215646              9             0             0              40   \n",
       "3        1  234721              7             0             0              40   \n",
       "4        0  338409             13             0             0              40   \n",
       "...    ...     ...            ...           ...           ...             ...   \n",
       "32556    0  257302             12             0             0              38   \n",
       "32557    1  154374              9             0             0              40   \n",
       "32558    1  151910              9             0             0              40   \n",
       "32559    0  201490              9             0             0              20   \n",
       "32560    1  287927              9         15024             0              40   \n",
       "\n",
       "       workclass_Federal-gov  workclass_Local-gov  workclass_Never-worked  \\\n",
       "0                      False                False                   False   \n",
       "1                      False                False                   False   \n",
       "2                      False                False                   False   \n",
       "3                      False                False                   False   \n",
       "4                      False                False                   False   \n",
       "...                      ...                  ...                     ...   \n",
       "32556                  False                False                   False   \n",
       "32557                  False                False                   False   \n",
       "32558                  False                False                   False   \n",
       "32559                  False                False                   False   \n",
       "32560                  False                False                   False   \n",
       "\n",
       "       workclass_Private  ...  native-country_Puerto-Rico  \\\n",
       "0                  False  ...                       False   \n",
       "1                  False  ...                       False   \n",
       "2                   True  ...                       False   \n",
       "3                   True  ...                       False   \n",
       "4                   True  ...                       False   \n",
       "...                  ...  ...                         ...   \n",
       "32556               True  ...                       False   \n",
       "32557               True  ...                       False   \n",
       "32558               True  ...                       False   \n",
       "32559               True  ...                       False   \n",
       "32560              False  ...                       False   \n",
       "\n",
       "       native-country_Scotland  native-country_South  native-country_Taiwan  \\\n",
       "0                        False                 False                  False   \n",
       "1                        False                 False                  False   \n",
       "2                        False                 False                  False   \n",
       "3                        False                 False                  False   \n",
       "4                        False                 False                  False   \n",
       "...                        ...                   ...                    ...   \n",
       "32556                    False                 False                  False   \n",
       "32557                    False                 False                  False   \n",
       "32558                    False                 False                  False   \n",
       "32559                    False                 False                  False   \n",
       "32560                    False                 False                  False   \n",
       "\n",
       "       native-country_Thailand  native-country_Trinadad&Tobago  \\\n",
       "0                        False                           False   \n",
       "1                        False                           False   \n",
       "2                        False                           False   \n",
       "3                        False                           False   \n",
       "4                        False                           False   \n",
       "...                        ...                             ...   \n",
       "32556                    False                           False   \n",
       "32557                    False                           False   \n",
       "32558                    False                           False   \n",
       "32559                    False                           False   \n",
       "32560                    False                           False   \n",
       "\n",
       "       native-country_United-States  native-country_Vietnam  \\\n",
       "0                              True                   False   \n",
       "1                              True                   False   \n",
       "2                              True                   False   \n",
       "3                              True                   False   \n",
       "4                             False                   False   \n",
       "...                             ...                     ...   \n",
       "32556                          True                   False   \n",
       "32557                          True                   False   \n",
       "32558                          True                   False   \n",
       "32559                          True                   False   \n",
       "32560                          True                   False   \n",
       "\n",
       "       native-country_Yugoslavia  income_>50K  \n",
       "0                          False        False  \n",
       "1                          False        False  \n",
       "2                          False        False  \n",
       "3                          False        False  \n",
       "4                          False        False  \n",
       "...                          ...          ...  \n",
       "32556                      False        False  \n",
       "32557                      False         True  \n",
       "32558                      False        False  \n",
       "32559                      False        False  \n",
       "32560                      False         True  \n",
       "\n",
       "[32561 rows x 101 columns]"
      ]
     },
     "execution_count": 2,
     "metadata": {},
     "output_type": "execute_result"
    }
   ],
   "source": [
    "# Load the dataset\n",
    "url = \"https://archive.ics.uci.edu/ml/machine-learning-databases/adult/adult.data\"\n",
    "columns = [\"age\", \"workclass\", \"fnlwgt\", \"education\", \"education-num\", \"marital-status\",\n",
    "           \"occupation\", \"relationship\", \"race\", \"sex\", \"capital-gain\", \"capital-loss\",\n",
    "           \"hours-per-week\", \"native-country\", \"income\"]\n",
    "data = pd.read_csv(url, header=None, names=columns, na_values=\" ?\", skipinitialspace=True)\n",
    "\n",
    "# Drop rows with missing values\n",
    "data.dropna(inplace=True)\n",
    "\n",
    "# Need to copy the data as we don't want a binarized part for testing the privacy\n",
    "data_copy = data.copy()\n",
    "\n",
    "# Binarize the 'age' attribute\n",
    "binarizer = Binarizer(threshold=30)\n",
    "data['age'] = binarizer.fit_transform(data[['age']])\n",
    "\n",
    "# Convert categorical variables to dummy variables\n",
    "data = pd.get_dummies(data, drop_first=True)\n",
    "\n",
    "data"
   ]
  },
  {
   "cell_type": "markdown",
   "metadata": {
    "id": "amZsndYi2hvd"
   },
   "source": [
    "### 1.2 Train a logistic regression classifier and measure its performance"
   ]
  },
  {
   "cell_type": "code",
   "execution_count": 3,
   "metadata": {
    "colab": {
     "base_uri": "https://localhost:8080/"
    },
    "id": "Sx9P9epS2hve",
    "outputId": "22ca08a7-8b73-4e7b-8fc8-d6b0eea4d888"
   },
   "outputs": [
    {
     "name": "stdout",
     "output_type": "stream",
     "text": [
      "Performance Metrics: {'Accuracy': 0.8552712384851586, 'Precision': 0.7271750805585392, 'Recall': 0.5991150442477876, 'F1 Score': 0.6569626394953906}\n"
     ]
    }
   ],
   "source": [
    "# Split the data into features and target variable\n",
    "X = data.drop('income_>50K', axis=1)\n",
    "y = data['income_>50K']\n",
    "\n",
    "# Split the data into train, validation, and test sets (70% train, 15% validation, 15% test)\n",
    "X_train, X_temp, y_train, y_temp = train_test_split(X, y, test_size=0.3, random_state=42)\n",
    "X_val, X_test, y_val, y_test = train_test_split(X_temp, y_temp, test_size=0.5, random_state=42)\n",
    "\n",
    "# Scale the data\n",
    "scaler = StandardScaler()\n",
    "X_train_scaled = scaler.fit_transform(X_train)\n",
    "X_val_scaled = scaler.transform(X_val)\n",
    "X_test_scaled = scaler.transform(X_test)\n",
    "\n",
    "# Train a logistic regression classifier\n",
    "classifier = LogisticRegression(max_iter=2000)\n",
    "classifier.fit(X_train_scaled, y_train)\n",
    "\n",
    "# Predict on the test set\n",
    "y_pred = classifier.predict(X_test_scaled)\n",
    "\n",
    "# Measure performance\n",
    "accuracy = accuracy_score(y_test, y_pred)\n",
    "precision = precision_score(y_test, y_pred)\n",
    "recall = recall_score(y_test, y_pred)\n",
    "f1 = f1_score(y_test, y_pred)\n",
    "\n",
    "performance_metrics = {\n",
    "    'Accuracy': accuracy,\n",
    "    'Precision': precision,\n",
    "    'Recall': recall,\n",
    "    'F1 Score': f1\n",
    "}\n",
    "\n",
    "print(\"Performance Metrics:\", performance_metrics)\n"
   ]
  },
  {
   "cell_type": "markdown",
   "metadata": {
    "id": "VheTnJs52hvf"
   },
   "source": [
    "# 2 - Fairness\n"
   ]
  },
  {
   "cell_type": "markdown",
   "metadata": {
    "id": "kkseqmx15568"
   },
   "source": [
    "**2.2 Fairness Metrics**"
   ]
  },
  {
   "cell_type": "code",
   "execution_count": 4,
   "metadata": {
    "colab": {
     "base_uri": "https://localhost:8080/"
    },
    "id": "cF2DXG2v6B8y",
    "outputId": "808d6ab7-607d-4eb9-b68a-aeae013aa7aa"
   },
   "outputs": [
    {
     "name": "stdout",
     "output_type": "stream",
     "text": [
      "Fairness Metrics (Original Classifier):\n",
      "Age - Demographic Parity Difference: 0.2461163789376603, Demographic Parity Ratio: 0.08738725259693071\n",
      "Sex - Demographic Parity Difference: 0.1725282306338493, Demographic Parity Ratio: 0.3045489515167733\n"
     ]
    },
    {
     "name": "stderr",
     "output_type": "stream",
     "text": [
      "c:\\users\\asus_q\\documents\\environments\\manag_p\\Lib\\site-packages\\fairlearn\\metrics\\_disaggregated_result.py:235: FutureWarning: DataFrame.applymap has been deprecated. Use DataFrame.map instead.\n",
      "  mf = mf.applymap(lambda x: x if np.isscalar(x) else np.nan)\n",
      "c:\\users\\asus_q\\documents\\environments\\manag_p\\Lib\\site-packages\\fairlearn\\metrics\\_disaggregated_result.py:235: FutureWarning: DataFrame.applymap has been deprecated. Use DataFrame.map instead.\n",
      "  mf = mf.applymap(lambda x: x if np.isscalar(x) else np.nan)\n",
      "c:\\users\\asus_q\\documents\\environments\\manag_p\\Lib\\site-packages\\fairlearn\\metrics\\_disaggregated_result.py:235: FutureWarning: DataFrame.applymap has been deprecated. Use DataFrame.map instead.\n",
      "  mf = mf.applymap(lambda x: x if np.isscalar(x) else np.nan)\n",
      "c:\\users\\asus_q\\documents\\environments\\manag_p\\Lib\\site-packages\\fairlearn\\metrics\\_disaggregated_result.py:235: FutureWarning: DataFrame.applymap has been deprecated. Use DataFrame.map instead.\n",
      "  mf = mf.applymap(lambda x: x if np.isscalar(x) else np.nan)\n",
      "c:\\users\\asus_q\\documents\\environments\\manag_p\\Lib\\site-packages\\fairlearn\\metrics\\_disaggregated_result.py:235: FutureWarning: DataFrame.applymap has been deprecated. Use DataFrame.map instead.\n",
      "  mf = mf.applymap(lambda x: x if np.isscalar(x) else np.nan)\n",
      "c:\\users\\asus_q\\documents\\environments\\manag_p\\Lib\\site-packages\\fairlearn\\metrics\\_disaggregated_result.py:235: FutureWarning: DataFrame.applymap has been deprecated. Use DataFrame.map instead.\n",
      "  mf = mf.applymap(lambda x: x if np.isscalar(x) else np.nan)\n",
      "c:\\users\\asus_q\\documents\\environments\\manag_p\\Lib\\site-packages\\fairlearn\\metrics\\_disaggregated_result.py:235: FutureWarning: DataFrame.applymap has been deprecated. Use DataFrame.map instead.\n",
      "  mf = mf.applymap(lambda x: x if np.isscalar(x) else np.nan)\n",
      "c:\\users\\asus_q\\documents\\environments\\manag_p\\Lib\\site-packages\\fairlearn\\metrics\\_disaggregated_result.py:235: FutureWarning: DataFrame.applymap has been deprecated. Use DataFrame.map instead.\n",
      "  mf = mf.applymap(lambda x: x if np.isscalar(x) else np.nan)\n",
      "c:\\users\\asus_q\\documents\\environments\\manag_p\\Lib\\site-packages\\fairlearn\\metrics\\_disaggregated_result.py:235: FutureWarning: DataFrame.applymap has been deprecated. Use DataFrame.map instead.\n",
      "  mf = mf.applymap(lambda x: x if np.isscalar(x) else np.nan)\n",
      "c:\\users\\asus_q\\documents\\environments\\manag_p\\Lib\\site-packages\\fairlearn\\metrics\\_disaggregated_result.py:235: FutureWarning: DataFrame.applymap has been deprecated. Use DataFrame.map instead.\n",
      "  mf = mf.applymap(lambda x: x if np.isscalar(x) else np.nan)\n",
      "c:\\users\\asus_q\\documents\\environments\\manag_p\\Lib\\site-packages\\fairlearn\\metrics\\_disaggregated_result.py:235: FutureWarning: DataFrame.applymap has been deprecated. Use DataFrame.map instead.\n",
      "  mf = mf.applymap(lambda x: x if np.isscalar(x) else np.nan)\n",
      "c:\\users\\asus_q\\documents\\environments\\manag_p\\Lib\\site-packages\\fairlearn\\metrics\\_disaggregated_result.py:235: FutureWarning: DataFrame.applymap has been deprecated. Use DataFrame.map instead.\n",
      "  mf = mf.applymap(lambda x: x if np.isscalar(x) else np.nan)\n"
     ]
    }
   ],
   "source": [
    "from fairlearn.metrics import demographic_parity_difference, demographic_parity_ratio\n",
    "\n",
    "# Define sensitive features: 'age' and 'sex_Male'\n",
    "age_sensitive = X_test['age']\n",
    "sex_sensitive = X_test['sex_Male']\n",
    "\n",
    "# Compute fairness metrics for the original classifier\n",
    "dpd_age = demographic_parity_difference(y_test, y_pred, sensitive_features=age_sensitive)\n",
    "dpr_age = demographic_parity_ratio(y_test, y_pred, sensitive_features=age_sensitive)\n",
    "\n",
    "dpd_sex = demographic_parity_difference(y_test, y_pred, sensitive_features=sex_sensitive)\n",
    "dpr_sex = demographic_parity_ratio(y_test, y_pred, sensitive_features=sex_sensitive)\n",
    "\n",
    "print(\"Fairness Metrics (Original Classifier):\")\n",
    "print(f\"Age - Demographic Parity Difference: {dpd_age}, Demographic Parity Ratio: {dpr_age}\")\n",
    "print(f\"Sex - Demographic Parity Difference: {dpd_sex}, Demographic Parity Ratio: {dpr_sex}\")\n"
   ]
  },
  {
   "cell_type": "markdown",
   "metadata": {
    "id": "0pZcQmqo63X4"
   },
   "source": [
    "**2.3 Apply a Fairness Mitigation Technique**"
   ]
  },
  {
   "cell_type": "code",
   "execution_count": 5,
   "metadata": {
    "colab": {
     "base_uri": "https://localhost:8080/"
    },
    "id": "rs2BFOLi64KU",
    "outputId": "0d988328-5692-484c-cdb4-a8a358cc6f8b"
   },
   "outputs": [
    {
     "name": "stdout",
     "output_type": "stream",
     "text": [
      "\n",
      "Reweighted Classifier Performance Metrics:\n",
      "Accuracy: 0.8380757420675538\n",
      "Precision: 0.6968641114982579\n",
      "Recall: 0.5309734513274337\n",
      "F1 Score: 0.6027122049221497\n"
     ]
    }
   ],
   "source": [
    "from aif360.datasets import BinaryLabelDataset\n",
    "from aif360.algorithms.preprocessing import Reweighing\n",
    "from sklearn.linear_model import LogisticRegression\n",
    "\n",
    "# Convert data into BinaryLabelDataset format\n",
    "binary_data = BinaryLabelDataset(\n",
    "    df=pd.concat([X_train, y_train], axis=1),  # Combine features and target\n",
    "    label_names=['income_>50K'],               # Target column\n",
    "    protected_attribute_names=['age', 'sex_Male']  # Sensitive attributes\n",
    ")\n",
    "\n",
    "# Apply reweighting to the data\n",
    "rw = Reweighing(unprivileged_groups=[{'age': 0}], privileged_groups=[{'age': 1}])  # Reweigh based on age\n",
    "rw.fit(binary_data)  # Fit the reweighing model\n",
    "reweighted_data = rw.transform(binary_data)  # Apply reweighting\n",
    "\n",
    "# Train the classifier using the reweighted data\n",
    "classifier_reweighted = LogisticRegression(max_iter=2000)\n",
    "classifier_reweighted.fit(X_train_scaled, y_train, sample_weight=reweighted_data.instance_weights)\n",
    "\n",
    "# Predict and measure performance on the reweighted classifier\n",
    "y_pred_reweighted = classifier_reweighted.predict(X_test_scaled)\n",
    "\n",
    "# Performance metrics for reweighted classifier\n",
    "accuracy_reweighted = accuracy_score(y_test, y_pred_reweighted)\n",
    "precision_reweighted = precision_score(y_test, y_pred_reweighted)\n",
    "recall_reweighted = recall_score(y_test, y_pred_reweighted)\n",
    "f1_reweighted = f1_score(y_test, y_pred_reweighted)\n",
    "\n",
    "print(\"\\nReweighted Classifier Performance Metrics:\")\n",
    "print(f\"Accuracy: {accuracy_reweighted}\")\n",
    "print(f\"Precision: {precision_reweighted}\")\n",
    "print(f\"Recall: {recall_reweighted}\")\n",
    "print(f\"F1 Score: {f1_reweighted}\")"
   ]
  },
  {
   "cell_type": "markdown",
   "metadata": {
    "id": "XHd4fndl7B3p"
   },
   "source": [
    "**2.4 Report Fairness Metrics on the Classifier and the Fair Classifier**"
   ]
  },
  {
   "cell_type": "code",
   "execution_count": 6,
   "metadata": {},
   "outputs": [
    {
     "name": "stderr",
     "output_type": "stream",
     "text": [
      "c:\\users\\asus_q\\documents\\environments\\manag_p\\Lib\\site-packages\\fairlearn\\metrics\\_disaggregated_result.py:235: FutureWarning: DataFrame.applymap has been deprecated. Use DataFrame.map instead.\n",
      "  mf = mf.applymap(lambda x: x if np.isscalar(x) else np.nan)\n",
      "c:\\users\\asus_q\\documents\\environments\\manag_p\\Lib\\site-packages\\fairlearn\\metrics\\_disaggregated_result.py:235: FutureWarning: DataFrame.applymap has been deprecated. Use DataFrame.map instead.\n",
      "  mf = mf.applymap(lambda x: x if np.isscalar(x) else np.nan)\n",
      "c:\\users\\asus_q\\documents\\environments\\manag_p\\Lib\\site-packages\\fairlearn\\metrics\\_disaggregated_result.py:235: FutureWarning: DataFrame.applymap has been deprecated. Use DataFrame.map instead.\n",
      "  mf = mf.applymap(lambda x: x if np.isscalar(x) else np.nan)\n",
      "c:\\users\\asus_q\\documents\\environments\\manag_p\\Lib\\site-packages\\fairlearn\\metrics\\_disaggregated_result.py:235: FutureWarning: DataFrame.applymap has been deprecated. Use DataFrame.map instead.\n",
      "  mf = mf.applymap(lambda x: x if np.isscalar(x) else np.nan)\n",
      "c:\\users\\asus_q\\documents\\environments\\manag_p\\Lib\\site-packages\\fairlearn\\metrics\\_disaggregated_result.py:235: FutureWarning: DataFrame.applymap has been deprecated. Use DataFrame.map instead.\n",
      "  mf = mf.applymap(lambda x: x if np.isscalar(x) else np.nan)\n",
      "c:\\users\\asus_q\\documents\\environments\\manag_p\\Lib\\site-packages\\fairlearn\\metrics\\_disaggregated_result.py:235: FutureWarning: DataFrame.applymap has been deprecated. Use DataFrame.map instead.\n",
      "  mf = mf.applymap(lambda x: x if np.isscalar(x) else np.nan)\n",
      "c:\\users\\asus_q\\documents\\environments\\manag_p\\Lib\\site-packages\\fairlearn\\metrics\\_disaggregated_result.py:235: FutureWarning: DataFrame.applymap has been deprecated. Use DataFrame.map instead.\n",
      "  mf = mf.applymap(lambda x: x if np.isscalar(x) else np.nan)\n",
      "c:\\users\\asus_q\\documents\\environments\\manag_p\\Lib\\site-packages\\fairlearn\\metrics\\_disaggregated_result.py:235: FutureWarning: DataFrame.applymap has been deprecated. Use DataFrame.map instead.\n",
      "  mf = mf.applymap(lambda x: x if np.isscalar(x) else np.nan)\n",
      "c:\\users\\asus_q\\documents\\environments\\manag_p\\Lib\\site-packages\\fairlearn\\metrics\\_disaggregated_result.py:235: FutureWarning: DataFrame.applymap has been deprecated. Use DataFrame.map instead.\n",
      "  mf = mf.applymap(lambda x: x if np.isscalar(x) else np.nan)\n",
      "c:\\users\\asus_q\\documents\\environments\\manag_p\\Lib\\site-packages\\fairlearn\\metrics\\_disaggregated_result.py:235: FutureWarning: DataFrame.applymap has been deprecated. Use DataFrame.map instead.\n",
      "  mf = mf.applymap(lambda x: x if np.isscalar(x) else np.nan)\n",
      "c:\\users\\asus_q\\documents\\environments\\manag_p\\Lib\\site-packages\\fairlearn\\metrics\\_disaggregated_result.py:235: FutureWarning: DataFrame.applymap has been deprecated. Use DataFrame.map instead.\n",
      "  mf = mf.applymap(lambda x: x if np.isscalar(x) else np.nan)\n",
      "c:\\users\\asus_q\\documents\\environments\\manag_p\\Lib\\site-packages\\fairlearn\\metrics\\_disaggregated_result.py:235: FutureWarning: DataFrame.applymap has been deprecated. Use DataFrame.map instead.\n",
      "  mf = mf.applymap(lambda x: x if np.isscalar(x) else np.nan)\n"
     ]
    }
   ],
   "source": [
    "dpd_reweighted_age = demographic_parity_difference(y_test, y_pred_reweighted, sensitive_features=age_sensitive)\n",
    "dpr_reweighted_age = demographic_parity_ratio(y_test, y_pred_reweighted, sensitive_features=age_sensitive)\n",
    "\n",
    "dpd_reweighted_sex = demographic_parity_difference(y_test, y_pred_reweighted, sensitive_features=sex_sensitive)\n",
    "dpr_reweighted_sex = demographic_parity_ratio(y_test, y_pred_reweighted, sensitive_features=sex_sensitive)"
   ]
  },
  {
   "cell_type": "code",
   "execution_count": 7,
   "metadata": {
    "colab": {
     "base_uri": "https://localhost:8080/"
    },
    "id": "Gr9YTN9G7DWl",
    "outputId": "6855a3f5-399a-4eb6-8d49-a64e205a618f"
   },
   "outputs": [
    {
     "name": "stdout",
     "output_type": "stream",
     "text": [
      "Fairness Metrics Comparison (Original vs Reweighted Classifier):\n",
      "                                     Original Classifier  \\\n",
      "Metric                                                     \n",
      "Demographic Parity Difference (Age)             0.246116   \n",
      "Demographic Parity Ratio (Age)                  0.087387   \n",
      "Demographic Parity Difference (Sex)             0.172528   \n",
      "Demographic Parity Ratio (Sex)                  0.304549   \n",
      "\n",
      "                                     Reweighted Classifier  \n",
      "Metric                                                      \n",
      "Demographic Parity Difference (Age)               0.100166  \n",
      "Demographic Parity Ratio (Age)                    0.519463  \n",
      "Demographic Parity Difference (Sex)               0.140902  \n",
      "Demographic Parity Ratio (Sex)                    0.368751  \n",
      "\n",
      "Performance Metrics Comparison (Original vs Reweighted Classifier):\n",
      "           Original Classifier  Reweighted Classifier\n",
      "Metric                                               \n",
      "Accuracy              0.855271               0.838076\n",
      "Precision             0.727175               0.696864\n",
      "Recall                0.599115               0.530973\n",
      "F1 Score              0.656963               0.602712\n"
     ]
    }
   ],
   "source": [
    "import pandas as pd\n",
    "\n",
    "# Fairness metrics for the original classifier\n",
    "metrics_original = {\n",
    "    'Metric': ['Demographic Parity Difference (Age)', 'Demographic Parity Ratio (Age)',\n",
    "               'Demographic Parity Difference (Sex)', 'Demographic Parity Ratio (Sex)'],\n",
    "    'Original Classifier': [dpd_age, dpr_age, dpd_sex, dpr_sex]\n",
    "}\n",
    "\n",
    "# Performance metrics for the original classifier\n",
    "metrics_original_performance = {\n",
    "    'Metric': ['Accuracy', 'Precision', 'Recall', 'F1 Score'],\n",
    "    'Original Classifier': [accuracy, precision, recall, f1]\n",
    "}\n",
    "\n",
    "# Fairness metrics for the reweighted classifier\n",
    "metrics_reweighted = {\n",
    "    'Metric': ['Demographic Parity Difference (Age)', 'Demographic Parity Ratio (Age)',\n",
    "               'Demographic Parity Difference (Sex)', 'Demographic Parity Ratio (Sex)'],\n",
    "    'Reweighted Classifier': [dpd_reweighted_age, dpr_reweighted_age, dpd_reweighted_sex, dpr_reweighted_sex]\n",
    "}\n",
    "\n",
    "# Performance metrics for the reweighted classifier\n",
    "metrics_reweighted_performance = {\n",
    "    'Metric': ['Accuracy', 'Precision', 'Recall', 'F1 Score'],\n",
    "    'Reweighted Classifier': [accuracy_reweighted, precision_reweighted, recall_reweighted, f1_reweighted]\n",
    "}\n",
    "\n",
    "# Convert dictionaries to dataframes\n",
    "df_original = pd.DataFrame(metrics_original)\n",
    "df_original_performance = pd.DataFrame(metrics_original_performance)\n",
    "df_reweighted = pd.DataFrame(metrics_reweighted)\n",
    "df_reweighted_performance = pd.DataFrame(metrics_reweighted_performance)\n",
    "\n",
    "# Display fairness metrics and performance metrics in tables\n",
    "print(\"Fairness Metrics Comparison (Original vs Reweighted Classifier):\")\n",
    "print(pd.concat([df_original.set_index('Metric'), df_reweighted.set_index('Metric')], axis=1))\n",
    "\n",
    "print(\"\\nPerformance Metrics Comparison (Original vs Reweighted Classifier):\")\n",
    "print(pd.concat([df_original_performance.set_index('Metric'), df_reweighted_performance.set_index('Metric')], axis=1))\n"
   ]
  },
  {
   "cell_type": "markdown",
   "metadata": {
    "id": "AoHxSU_b2hvf"
   },
   "source": [
    "# 3 - Privacy\n"
   ]
  },
  {
   "cell_type": "markdown",
   "metadata": {
    "id": "5GHWrOya2hvf"
   },
   "source": [
    "### 3.1 First cross tabulation"
   ]
  },
  {
   "cell_type": "code",
   "execution_count": 8,
   "metadata": {},
   "outputs": [
    {
     "name": "stdout",
     "output_type": "stream",
     "text": [
      "the distribution is the following: \n",
      " sex  Female  Male\n",
      "age              \n",
      "17      186   209\n",
      "18      268   282\n",
      "19      356   356\n",
      "20      363   390\n",
      "21      329   391\n",
      "..      ...   ...\n",
      "85        1     2\n",
      "86        1     0\n",
      "87        0     1\n",
      "88        1     2\n",
      "90       14    29\n",
      "\n",
      "[73 rows x 2 columns]\n"
     ]
    }
   ],
   "source": [
    "# Cross-tabulation on age and sex\n",
    "sensitive_crosstab = pd.crosstab(data_copy['age'], data_copy['sex'])\n",
    "\n",
    "print(\"the distribution is the following: \\n\", sensitive_crosstab)"
   ]
  },
  {
   "cell_type": "markdown",
   "metadata": {},
   "source": [
    "### 3.2 Local differential privacy"
   ]
  },
  {
   "cell_type": "code",
   "execution_count": 9,
   "metadata": {},
   "outputs": [
    {
     "name": "stdout",
     "output_type": "stream",
     "text": [
      "       Original Age  Private Age Original Sex Private Sex\n",
      "0                39           39         Male        Male\n",
      "1                50           50         Male      Female\n",
      "2                38           38         Male        Male\n",
      "3                53           53         Male      Female\n",
      "4                28           28       Female      Female\n",
      "...             ...          ...          ...         ...\n",
      "32556            27           27       Female        Male\n",
      "32557            40           40         Male        Male\n",
      "32558            58           58       Female      Female\n",
      "32559            22           22         Male        Male\n",
      "32560            52           52       Female        Male\n",
      "\n",
      "[32561 rows x 4 columns]\n"
     ]
    }
   ],
   "source": [
    "# making a private dataset\n",
    "private_data = data_copy.copy()\n",
    "\n",
    "#We can change the values of the epsilon to make tests on them here, the current ones are the ones\n",
    "#that seemed the more coherent after testing multiple ones\n",
    "epsilon_age = 5\n",
    "epsilon_sex = 0.2 #so 20% of the sex values are changed\n",
    "\n",
    "#Apply Laplace noise and round it(for age)\n",
    "def laplace_noise(value, epsilon):\n",
    "    return round(value + np.random.laplace(0, 1 / epsilon))\n",
    "\n",
    "#Apply randomized response (for sex)\n",
    "def randomized_response(value, epsilon):\n",
    "    if np.random.rand() < epsilon_sex: #this way, the valu of epsilo_sex is the proportion of changed sex\n",
    "        return 'Male' if (value == 'Female') else 'Female'\n",
    "    return value\n",
    "\n",
    "#remark: we can't take a epsilon too small for sex, else we risk blurring information on sex inequalities\n",
    "\n",
    "#Apply local differential privacy to age and sex on dataPrivate\n",
    "private_data['age'] = data_copy['age'].apply(lambda x: laplace_noise(x, epsilon_age))\n",
    "private_data['sex'] = data_copy['sex'].apply(lambda x: randomized_response(x, epsilon_sex))\n",
    "\n",
    "# Concatenate the 'age' and 'sex' columns from both original (dataCopy) and private (dataPrivate) data\n",
    "comparison_df = pd.concat([data_copy[['age', 'sex']], private_data[['age', 'sex']]], axis=1)\n",
    "comparison_df.columns = ['Original Age', 'Original Sex', 'Private Age', 'Private Sex']\n",
    "comparison_df = comparison_df[['Original Age', 'Private Age', 'Original Sex', 'Private Sex']]\n",
    "\n",
    "# Show the comparison to see how the private dataset differs from the original one\n",
    "print(comparison_df)"
   ]
  },
  {
   "cell_type": "markdown",
   "metadata": {},
   "source": [
    "### 3.3 Cross tabulation on the private dataset"
   ]
  },
  {
   "cell_type": "code",
   "execution_count": 10,
   "metadata": {},
   "outputs": [
    {
     "name": "stdout",
     "output_type": "stream",
     "text": [
      "the distribution on the private data is the following:\n",
      " sex  Female  Male\n",
      "age              \n",
      "16        4     9\n",
      "17      184   204\n",
      "18      279   274\n",
      "19      344   372\n",
      "20      373   365\n",
      "..      ...   ...\n",
      "87        0     1\n",
      "88        1     2\n",
      "89        1     0\n",
      "90       12    27\n",
      "91        2     1\n",
      "\n",
      "[76 rows x 2 columns]\n",
      "Estimation error:\n",
      " sex  Female  Male\n",
      "age              \n",
      "16       -4    -9\n",
      "17        2     5\n",
      "18      -11     8\n",
      "19       12   -16\n",
      "20      -10    25\n",
      "..      ...   ...\n",
      "87        0     0\n",
      "88        0     0\n",
      "89       -1     0\n",
      "90        2     2\n",
      "91       -2    -1\n",
      "\n",
      "[76 rows x 2 columns]\n",
      "note: negative values mean there are more in the private dataset than in the original one\n"
     ]
    }
   ],
   "source": [
    "#Cross-tabulation for the private data\n",
    "private_crosstab = pd.crosstab(private_data['age'], private_data['sex'])\n",
    "\n",
    "print(\"the distribution on the private data is the following:\\n\", private_crosstab)\n",
    "\n",
    "# Align both crosstabs, necessary, else it returns an empty dataset\n",
    "sensitive_crosstab, private_crosstab = sensitive_crosstab.align(private_crosstab, join='outer', axis=0, fill_value=0)\n",
    "\n",
    "#Calculate the estimation errors\n",
    "#this shows the differences in distribution between the private and original dataset\n",
    "comparison_crosstab = sensitive_crosstab.subtract(private_crosstab, fill_value=0)\n",
    "print(\"Estimation error:\\n\", comparison_crosstab)\n",
    "\n",
    "print(\"note: negative values mean there are more in the private dataset than in the original one\")"
   ]
  },
  {
   "cell_type": "markdown",
   "metadata": {},
   "source": [
    "### 3.4 Data splitting and classification"
   ]
  },
  {
   "cell_type": "code",
   "execution_count": 11,
   "metadata": {},
   "outputs": [],
   "source": [
    "# we binarize the ages again\n",
    "private_data['age'] = binarizer.fit_transform(data[['age']])\n",
    "\n",
    "# Convert categorical variables to dummy variables\n",
    "private_data = pd.get_dummies(data, drop_first=True)\n",
    "\n",
    "#now we make a process similar to the one from (1):\n",
    "\n",
    "# Split the data into features and target variable\n",
    "X_p = private_data.drop('income_>50K', axis=1)\n",
    "Y_p = private_data['income_>50K']\n",
    "\n",
    "# Split the data into train, validation, and test sets (70% train, 15% validation, 15% test)\n",
    "X_train_p, X_temp_p, Y_train_p, Y_temp_p = train_test_split(X_p, Y_p, test_size=0.3, random_state=42)\n",
    "X_val_p, X_test_p, Y_val_p, Y_test_p = train_test_split(X_temp_p, Y_temp_p, test_size=0.5, random_state=42)\n",
    "\n",
    "# Scale the data\n",
    "#scaler was already defined in (1)\n",
    "X_train_scaled_p = scaler.fit_transform(X_train_p)\n",
    "X_val_scaled_p = scaler.transform(X_val_p)\n",
    "X_test_scaled_p = scaler.transform(X_test_p)\n",
    "\n",
    "# Train a logistic regression classifier\n",
    "private_classifier = LogisticRegression(max_iter=2000)\n",
    "private_classifier.fit(X_train_scaled_p, Y_train_p)\n",
    "\n",
    "\n",
    "# Predict on the test set\n",
    "Y_pred_p = private_classifier.predict(X_test_scaled_p)"
   ]
  },
  {
   "cell_type": "markdown",
   "metadata": {},
   "source": [
    "### 3.5 Performances measuring"
   ]
  },
  {
   "cell_type": "code",
   "execution_count": 12,
   "metadata": {},
   "outputs": [
    {
     "name": "stdout",
     "output_type": "stream",
     "text": [
      "Performance Metrics of the original dataset: {'Accuracy': 0.8552712384851586, 'Precision': 0.7271750805585392, 'Recall': 0.5991150442477876, 'F1 Score': 0.6569626394953906}\n",
      "Performance Metrics of the private dataset:  {'Accuracy': 0.8552712384851586, 'Precision': 0.7271750805585392, 'Recall': 0.5991150442477876, 'F1 Score': 0.6569626394953906}\n"
     ]
    }
   ],
   "source": [
    "# Measure performance on the private classifier\n",
    "private_accuracy = accuracy_score(Y_test_p, Y_pred_p)\n",
    "private_precision = precision_score(Y_test_p, Y_pred_p)\n",
    "private_recall = recall_score(Y_test_p, Y_pred_p)\n",
    "private_f1 = f1_score(Y_test_p, Y_pred_p)\n",
    "\n",
    "private_performance_metrics = {\n",
    "    'Accuracy': private_accuracy,\n",
    "    'Precision': private_precision,\n",
    "    'Recall': private_recall,\n",
    "    'F1 Score': private_f1\n",
    "}\n",
    "\n",
    "print(\"Performance Metrics of the original dataset:\", performance_metrics)\n",
    "print(\"Performance Metrics of the private dataset: \", private_performance_metrics)"
   ]
  },
  {
   "cell_type": "markdown",
   "metadata": {},
   "source": [
    "# 4 - Privacy and Fairness\n"
   ]
  },
  {
   "cell_type": "code",
   "execution_count": 13,
   "metadata": {},
   "outputs": [
    {
     "name": "stdout",
     "output_type": "stream",
     "text": [
      "Private+Fair Classifier Performance Metrics:\n",
      "Accuracy: 0.8380757420675538\n",
      "Precision: 0.6968641114982579\n",
      "Recall: 0.5309734513274337\n",
      "F1 Score: 0.6027122049221497\n"
     ]
    }
   ],
   "source": [
    "# Convert the private data into BinaryLabelDataset format\n",
    "binary_private_data = BinaryLabelDataset(\n",
    "    df=pd.concat([X_train_p, Y_train_p], axis=1),\n",
    "    label_names=['income_>50K'],\n",
    "    protected_attribute_names=['age']\n",
    ")\n",
    "\n",
    "# Apply Reweighing to the private data\n",
    "rw_private = Reweighing(unprivileged_groups=[{'age': 0}], privileged_groups=[{'age': 1}])\n",
    "rw_private.fit(binary_private_data)  # Fit the Reweighing algorithm\n",
    "reweighted_private_data = rw_private.transform(binary_private_data)  # Apply weights\n",
    "\n",
    "# Train the logistic regression classifier with reweighted data\n",
    "private_fair_classifier = LogisticRegression(max_iter=2000)\n",
    "private_fair_classifier.fit(X_train_scaled_p, Y_train_p, sample_weight=reweighted_private_data.instance_weights)\n",
    "\n",
    "# Predict on the test set\n",
    "Y_pred_private_fair = private_fair_classifier.predict(X_test_scaled_p)\n",
    "\n",
    "# Performance metrics for Private+Fair Classifier\n",
    "accuracy_private_fair = accuracy_score(Y_test_p, Y_pred_private_fair)\n",
    "precision_private_fair = precision_score(Y_test_p, Y_pred_private_fair)\n",
    "recall_private_fair = recall_score(Y_test_p, Y_pred_private_fair)\n",
    "f1_private_fair = f1_score(Y_test_p, Y_pred_private_fair)\n",
    "\n",
    "# Display metrics\n",
    "print(\"Private+Fair Classifier Performance Metrics:\")\n",
    "print(f\"Accuracy: {accuracy_private_fair}\")\n",
    "print(f\"Precision: {precision_private_fair}\")\n",
    "print(f\"Recall: {recall_private_fair}\")\n",
    "print(f\"F1 Score: {f1_private_fair}\")"
   ]
  },
  {
   "cell_type": "code",
   "execution_count": 14,
   "metadata": {},
   "outputs": [
    {
     "name": "stdout",
     "output_type": "stream",
     "text": [
      "\n",
      "Private+Fair Classifier Fairness Metrics:\n",
      "Age - Demographic Parity Difference: 0.10016620072820898, Demographic Parity Ratio: 0.5194631614847862\n",
      "Sex - Demographic Parity Difference: 0.14090196205639866, Demographic Parity Ratio: 0.36875145747222776\n"
     ]
    },
    {
     "name": "stderr",
     "output_type": "stream",
     "text": [
      "c:\\users\\asus_q\\documents\\environments\\manag_p\\Lib\\site-packages\\fairlearn\\metrics\\_disaggregated_result.py:235: FutureWarning: DataFrame.applymap has been deprecated. Use DataFrame.map instead.\n",
      "  mf = mf.applymap(lambda x: x if np.isscalar(x) else np.nan)\n",
      "c:\\users\\asus_q\\documents\\environments\\manag_p\\Lib\\site-packages\\fairlearn\\metrics\\_disaggregated_result.py:235: FutureWarning: DataFrame.applymap has been deprecated. Use DataFrame.map instead.\n",
      "  mf = mf.applymap(lambda x: x if np.isscalar(x) else np.nan)\n",
      "c:\\users\\asus_q\\documents\\environments\\manag_p\\Lib\\site-packages\\fairlearn\\metrics\\_disaggregated_result.py:235: FutureWarning: DataFrame.applymap has been deprecated. Use DataFrame.map instead.\n",
      "  mf = mf.applymap(lambda x: x if np.isscalar(x) else np.nan)\n",
      "c:\\users\\asus_q\\documents\\environments\\manag_p\\Lib\\site-packages\\fairlearn\\metrics\\_disaggregated_result.py:235: FutureWarning: DataFrame.applymap has been deprecated. Use DataFrame.map instead.\n",
      "  mf = mf.applymap(lambda x: x if np.isscalar(x) else np.nan)\n",
      "c:\\users\\asus_q\\documents\\environments\\manag_p\\Lib\\site-packages\\fairlearn\\metrics\\_disaggregated_result.py:235: FutureWarning: DataFrame.applymap has been deprecated. Use DataFrame.map instead.\n",
      "  mf = mf.applymap(lambda x: x if np.isscalar(x) else np.nan)\n",
      "c:\\users\\asus_q\\documents\\environments\\manag_p\\Lib\\site-packages\\fairlearn\\metrics\\_disaggregated_result.py:235: FutureWarning: DataFrame.applymap has been deprecated. Use DataFrame.map instead.\n",
      "  mf = mf.applymap(lambda x: x if np.isscalar(x) else np.nan)\n",
      "c:\\users\\asus_q\\documents\\environments\\manag_p\\Lib\\site-packages\\fairlearn\\metrics\\_disaggregated_result.py:235: FutureWarning: DataFrame.applymap has been deprecated. Use DataFrame.map instead.\n",
      "  mf = mf.applymap(lambda x: x if np.isscalar(x) else np.nan)\n",
      "c:\\users\\asus_q\\documents\\environments\\manag_p\\Lib\\site-packages\\fairlearn\\metrics\\_disaggregated_result.py:235: FutureWarning: DataFrame.applymap has been deprecated. Use DataFrame.map instead.\n",
      "  mf = mf.applymap(lambda x: x if np.isscalar(x) else np.nan)\n",
      "c:\\users\\asus_q\\documents\\environments\\manag_p\\Lib\\site-packages\\fairlearn\\metrics\\_disaggregated_result.py:235: FutureWarning: DataFrame.applymap has been deprecated. Use DataFrame.map instead.\n",
      "  mf = mf.applymap(lambda x: x if np.isscalar(x) else np.nan)\n",
      "c:\\users\\asus_q\\documents\\environments\\manag_p\\Lib\\site-packages\\fairlearn\\metrics\\_disaggregated_result.py:235: FutureWarning: DataFrame.applymap has been deprecated. Use DataFrame.map instead.\n",
      "  mf = mf.applymap(lambda x: x if np.isscalar(x) else np.nan)\n",
      "c:\\users\\asus_q\\documents\\environments\\manag_p\\Lib\\site-packages\\fairlearn\\metrics\\_disaggregated_result.py:235: FutureWarning: DataFrame.applymap has been deprecated. Use DataFrame.map instead.\n",
      "  mf = mf.applymap(lambda x: x if np.isscalar(x) else np.nan)\n",
      "c:\\users\\asus_q\\documents\\environments\\manag_p\\Lib\\site-packages\\fairlearn\\metrics\\_disaggregated_result.py:235: FutureWarning: DataFrame.applymap has been deprecated. Use DataFrame.map instead.\n",
      "  mf = mf.applymap(lambda x: x if np.isscalar(x) else np.nan)\n"
     ]
    }
   ],
   "source": [
    "age_sensitive_private = X_test_p['age']  \n",
    "sex_sensitive_private = X_test_p['sex_Male'] \n",
    "\n",
    "# Fairness metrics for the Private+Fair Classifier\n",
    "dpd_private_fair_age = demographic_parity_difference(Y_test_p, Y_pred_private_fair, sensitive_features=age_sensitive_private)\n",
    "dpr_private_fair_age = demographic_parity_ratio(Y_test_p, Y_pred_private_fair, sensitive_features=age_sensitive_private)\n",
    "\n",
    "dpd_private_fair_sex = demographic_parity_difference(Y_test_p, Y_pred_private_fair, sensitive_features=sex_sensitive_private)\n",
    "dpr_private_fair_sex = demographic_parity_ratio(Y_test_p, Y_pred_private_fair, sensitive_features=sex_sensitive_private)\n",
    "\n",
    "print(\"\\nPrivate+Fair Classifier Fairness Metrics:\")\n",
    "print(f\"Age - Demographic Parity Difference: {dpd_private_fair_age}, Demographic Parity Ratio: {dpr_private_fair_age}\")\n",
    "print(f\"Sex - Demographic Parity Difference: {dpd_private_fair_sex}, Demographic Parity Ratio: {dpr_private_fair_sex}\")\n"
   ]
  },
  {
   "cell_type": "code",
   "execution_count": 15,
   "metadata": {},
   "outputs": [
    {
     "name": "stdout",
     "output_type": "stream",
     "text": [
      "\n",
      "Fairness Metrics Comparison (Original vs Reweighted vs Private+Fair Classifier):\n",
      "                                     Original Classifier  \\\n",
      "Metric                                                     \n",
      "Demographic Parity Difference (Age)             0.246116   \n",
      "Demographic Parity Ratio (Age)                  0.087387   \n",
      "Demographic Parity Difference (Sex)             0.172528   \n",
      "Demographic Parity Ratio (Sex)                  0.304549   \n",
      "\n",
      "                                     Reweighted Classifier  \\\n",
      "Metric                                                       \n",
      "Demographic Parity Difference (Age)               0.100166   \n",
      "Demographic Parity Ratio (Age)                    0.519463   \n",
      "Demographic Parity Difference (Sex)               0.140902   \n",
      "Demographic Parity Ratio (Sex)                    0.368751   \n",
      "\n",
      "                                     Private+Fair Classifier  \n",
      "Metric                                                        \n",
      "Demographic Parity Difference (Age)                 0.100166  \n",
      "Demographic Parity Ratio (Age)                      0.519463  \n",
      "Demographic Parity Difference (Sex)                 0.140902  \n",
      "Demographic Parity Ratio (Sex)                      0.368751  \n",
      "\n",
      "Performance Metrics Comparison (Original vs Reweighted vs Private+Fair Classifier):\n",
      "           Original Classifier  Reweighted Classifier  Private+Fair Classifier\n",
      "Metric                                                                        \n",
      "Accuracy              0.855271               0.838076                 0.838076\n",
      "Precision             0.727175               0.696864                 0.696864\n",
      "Recall                0.599115               0.530973                 0.530973\n",
      "F1 Score              0.656963               0.602712                 0.602712\n"
     ]
    }
   ],
   "source": [
    "# Fairness metrics for private+fair classifier\n",
    "metrics_private_fair = {\n",
    "    'Metric': ['Demographic Parity Difference (Age)', 'Demographic Parity Ratio (Age)',\n",
    "               'Demographic Parity Difference (Sex)', 'Demographic Parity Ratio (Sex)'],\n",
    "    'Private+Fair Classifier': [dpd_private_fair_age, dpr_private_fair_age, dpd_private_fair_sex, dpr_private_fair_sex]\n",
    "}\n",
    "\n",
    "# Performance metrics for private+fair classifier\n",
    "metrics_private_fair_performance = {\n",
    "    'Metric': ['Accuracy', 'Precision', 'Recall', 'F1 Score'],\n",
    "    'Private+Fair Classifier': [accuracy_private_fair, precision_private_fair, recall_private_fair, f1_private_fair]\n",
    "}\n",
    "\n",
    "# Convert to DataFrames\n",
    "df_private_fair = pd.DataFrame(metrics_private_fair)\n",
    "df_private_fair_performance = pd.DataFrame(metrics_private_fair_performance)\n",
    "\n",
    "# Display comparison tables\n",
    "print(\"\\nFairness Metrics Comparison (Original vs Reweighted vs Private+Fair Classifier):\")\n",
    "print(pd.concat([df_original.set_index('Metric'), \n",
    "                 df_reweighted.set_index('Metric'), \n",
    "                 df_private_fair.set_index('Metric')], axis=1))\n",
    "\n",
    "print(\"\\nPerformance Metrics Comparison (Original vs Reweighted vs Private+Fair Classifier):\")\n",
    "print(pd.concat([df_original_performance.set_index('Metric'), \n",
    "                 df_reweighted_performance.set_index('Metric'), \n",
    "                 df_private_fair_performance.set_index('Metric')], axis=1))\n"
   ]
  },
  {
   "cell_type": "markdown",
   "metadata": {},
   "source": [
    "### Conclusion\n",
    "#### Fairness Achieved with Reweighting and Privacy\n",
    " - Both the Fair Classifier and Private+Fair Classifier significantly\n",
    "   reduce demographic disparities compared to the Original Classifier,\n",
    "   achieving much better fairness with respect to Age and Sex.\n",
    "  - Privacy constraints in the Private+Fair Classifier do not compromise\n",
    "   fairness or performance, achieving parity with the Fair Classifier."
   ]
  },
  {
   "cell_type": "markdown",
   "metadata": {
    "id": "7c93bKmD2hvg"
   },
   "source": [
    "# 5 - Explainability\n"
   ]
  },
  {
   "cell_type": "code",
   "execution_count": 16,
   "metadata": {},
   "outputs": [],
   "source": [
    "import warnings\n",
    "warnings.filterwarnings(\"ignore\")\n",
    "\n",
    "import sys\n",
    "sys.path.append(\"dependencies\")\n",
    "\n",
    "from omnixai.data.tabular import Tabular\n",
    "from omnixai.preprocessing.tabular import TabularTransform\n",
    "from omnixai.explainers.tabular import TabularExplainer\n",
    "import xgboost as xgboost\n",
    "from itertools import cycle, islice"
   ]
  },
  {
   "cell_type": "markdown",
   "metadata": {
    "id": "UooALVf_2hvg"
   },
   "source": [
    "#  6 - Explainability and LLMs"
   ]
  },
  {
   "cell_type": "markdown",
   "metadata": {
    "id": "a3hJqqAY2hvg"
   },
   "source": [
    "# 7 - Free Exploration"
   ]
  },
  {
   "cell_type": "markdown",
   "metadata": {},
   "source": []
  },
  {
   "cell_type": "code",
   "execution_count": 17,
   "metadata": {},
   "outputs": [
    {
     "name": "stdout",
     "output_type": "stream",
     "text": [
      "Last execution of this notebook: 2024-12-07 23:20:31.847391\n"
     ]
    }
   ],
   "source": [
    "print(\"Last execution of this notebook:\",datetime.utcnow()+timedelta(hours=2))"
   ]
  }
 ],
 "metadata": {
  "colab": {
   "provenance": []
  },
  "kernelspec": {
   "display_name": "Python 3 (ipykernel)",
   "language": "python",
   "name": "python3"
  },
  "language_info": {
   "codemirror_mode": {
    "name": "ipython",
    "version": 3
   },
   "file_extension": ".py",
   "mimetype": "text/x-python",
   "name": "python",
   "nbconvert_exporter": "python",
   "pygments_lexer": "ipython3",
   "version": "3.11.9"
  }
 },
 "nbformat": 4,
 "nbformat_minor": 4
}
